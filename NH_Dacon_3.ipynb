{
  "nbformat": 4,
  "nbformat_minor": 0,
  "metadata": {
    "colab": {
      "name": "NH_Dacon_3.ipynb",
      "provenance": [],
      "collapsed_sections": []
    },
    "kernelspec": {
      "name": "python3",
      "display_name": "Python 3"
    },
    "language_info": {
      "name": "python"
    },
    "accelerator": "GPU"
  },
  "cells": [
    {
      "cell_type": "code",
      "metadata": {
        "id": "BKgJrWnMUefo"
      },
      "source": [
        "import pandas as pd\n",
        "pd.set_option(\"display.max_row\", 100)\n",
        "pd.set_option(\"display.max_column\", 100)\n",
        "import numpy as np\n",
        "import os\n",
        "import pandas as pd\n",
        "\n",
        "from sklearn.preprocessing import LabelEncoder\n",
        "from sklearn.metrics import mean_squared_error as mse\n",
        "from sklearn.model_selection import train_test_split, StratifiedKFold, KFold\n",
        "from lightgbm import LGBMRegressor"
      ],
      "execution_count": null,
      "outputs": []
    },
    {
      "cell_type": "code",
      "metadata": {
        "id": "TtPRqJqkULvk"
      },
      "source": [
        "cus = pd.read_csv(\"/content/drive/MyDrive/NH/DataSet/cus_info.csv\")\n",
        "iem = pd.read_csv(\"/content/drive/MyDrive/NH/DataSet/iem_info_20210902.csv\")\n",
        "hist = pd.read_csv(\"/content/drive/MyDrive/NH/DataSet/stk_bnc_hist.csv\")\n",
        "train_new = pd.read_excel(\"/content/drive/MyDrive/NH/DataSet/train_new_feature.xlsx\")\n",
        "test_new = pd.read_excel(\"/content/drive/MyDrive/NH/DataSet/test_new_feature.xlsx\")\n",
        "train_label = pd.read_csv(\"/content/drive/MyDrive/NH/DataSet/new_train_label.csv\")\n",
        "submission = pd.read_csv(\"/content/drive/MyDrive/NH/DataSet/sample_submission.csv\")"
      ],
      "execution_count": null,
      "outputs": []
    },
    {
      "cell_type": "code",
      "metadata": {
        "id": "dhJzhLuARM6b"
      },
      "source": [
        "train=pd.read_csv(\"/content/drive/MyDrive/NH/DataSet/new_train_data.csv\")\n",
        "test=pd.read_csv(\"/content/drive/MyDrive/NH/DataSet/new_test_data.csv\")"
      ],
      "execution_count": null,
      "outputs": []
    },
    {
      "cell_type": "code",
      "metadata": {
        "id": "-VZTBtbtbM3E"
      },
      "source": [
        "train_new.head()"
      ],
      "execution_count": null,
      "outputs": []
    },
    {
      "cell_type": "code",
      "metadata": {
        "colab": {
          "base_uri": "https://localhost:8080/"
        },
        "id": "HjJj966Me1OU",
        "outputId": "831d013c-96ad-4102-a567-8d85909a6b2d"
      },
      "source": [
        "train_new.shape"
      ],
      "execution_count": null,
      "outputs": [
        {
          "output_type": "execute_result",
          "data": {
            "text/plain": [
              "(31377, 26)"
            ]
          },
          "metadata": {},
          "execution_count": 12
        }
      ]
    },
    {
      "cell_type": "code",
      "metadata": {
        "id": "xPHPsb7bb9QS"
      },
      "source": [
        "test_new.head()"
      ],
      "execution_count": null,
      "outputs": []
    },
    {
      "cell_type": "code",
      "metadata": {
        "colab": {
          "base_uri": "https://localhost:8080/"
        },
        "id": "AIHPGLmne4db",
        "outputId": "763f72ce-14cd-4b37-d036-1d48925e567d"
      },
      "source": [
        "test_new.shape"
      ],
      "execution_count": null,
      "outputs": [
        {
          "output_type": "execute_result",
          "data": {
            "text/plain": [
              "(70596, 26)"
            ]
          },
          "metadata": {},
          "execution_count": 14
        }
      ]
    },
    {
      "cell_type": "code",
      "metadata": {
        "colab": {
          "base_uri": "https://localhost:8080/"
        },
        "id": "_aVJYEzLfQKs",
        "outputId": "4d9d82a0-fed8-4edd-e28c-8bf4e2e97b50"
      },
      "source": [
        "train_label.shape"
      ],
      "execution_count": null,
      "outputs": [
        {
          "output_type": "execute_result",
          "data": {
            "text/plain": [
              "(31377, 1)"
            ]
          },
          "metadata": {},
          "execution_count": 8
        }
      ]
    },
    {
      "cell_type": "code",
      "metadata": {
        "colab": {
          "base_uri": "https://localhost:8080/",
          "height": 223
        },
        "id": "Lg66WX2dRnyu",
        "outputId": "1398b5be-a81b-49a1-b21c-8f3fc0f68194"
      },
      "source": [
        "train.head()"
      ],
      "execution_count": null,
      "outputs": [
        {
          "output_type": "execute_result",
          "data": {
            "text/html": [
              "<div>\n",
              "<style scoped>\n",
              "    .dataframe tbody tr th:only-of-type {\n",
              "        vertical-align: middle;\n",
              "    }\n",
              "\n",
              "    .dataframe tbody tr th {\n",
              "        vertical-align: top;\n",
              "    }\n",
              "\n",
              "    .dataframe thead th {\n",
              "        text-align: right;\n",
              "    }\n",
              "</style>\n",
              "<table border=\"1\" class=\"dataframe\">\n",
              "  <thead>\n",
              "    <tr style=\"text-align: right;\">\n",
              "      <th></th>\n",
              "      <th>hist_d</th>\n",
              "      <th>sex_dit_cd</th>\n",
              "      <th>cus_age_stn_cd</th>\n",
              "      <th>ivs_icn_cd</th>\n",
              "      <th>cus_aet_stn_cd</th>\n",
              "      <th>mrz_pdt_tp_sgm_cd</th>\n",
              "      <th>lsg_sgm_cd</th>\n",
              "      <th>tco_cus_grd_cd</th>\n",
              "      <th>tot_ivs_te_sgm_cd</th>\n",
              "      <th>mrz_btp_dit_cd</th>\n",
              "      <th>iem_krl_nm</th>\n",
              "      <th>btp_cfc_cd</th>\n",
              "      <th>mkt_pr_tal_scl_tp_cd</th>\n",
              "      <th>stk_dit_cd</th>\n",
              "      <th>bnc_qty</th>\n",
              "      <th>tot_aet_amt</th>\n",
              "      <th>stk_par_pr</th>\n",
              "      <th>stk_p</th>\n",
              "    </tr>\n",
              "  </thead>\n",
              "  <tbody>\n",
              "    <tr>\n",
              "      <th>0</th>\n",
              "      <td>36</td>\n",
              "      <td>1</td>\n",
              "      <td>6</td>\n",
              "      <td>0</td>\n",
              "      <td>3</td>\n",
              "      <td>2</td>\n",
              "      <td>5</td>\n",
              "      <td>5</td>\n",
              "      <td>6</td>\n",
              "      <td>9</td>\n",
              "      <td>3037</td>\n",
              "      <td>2</td>\n",
              "      <td>2</td>\n",
              "      <td>1</td>\n",
              "      <td>1.0</td>\n",
              "      <td>69400.0</td>\n",
              "      <td>5000.0</td>\n",
              "      <td>69400.0</td>\n",
              "    </tr>\n",
              "    <tr>\n",
              "      <th>1</th>\n",
              "      <td>11</td>\n",
              "      <td>1</td>\n",
              "      <td>6</td>\n",
              "      <td>0</td>\n",
              "      <td>3</td>\n",
              "      <td>2</td>\n",
              "      <td>5</td>\n",
              "      <td>5</td>\n",
              "      <td>6</td>\n",
              "      <td>9</td>\n",
              "      <td>2848</td>\n",
              "      <td>6</td>\n",
              "      <td>1</td>\n",
              "      <td>1</td>\n",
              "      <td>4.0</td>\n",
              "      <td>345200.0</td>\n",
              "      <td>5000.0</td>\n",
              "      <td>86300.0</td>\n",
              "    </tr>\n",
              "    <tr>\n",
              "      <th>2</th>\n",
              "      <td>21</td>\n",
              "      <td>1</td>\n",
              "      <td>6</td>\n",
              "      <td>0</td>\n",
              "      <td>3</td>\n",
              "      <td>2</td>\n",
              "      <td>5</td>\n",
              "      <td>5</td>\n",
              "      <td>6</td>\n",
              "      <td>9</td>\n",
              "      <td>974</td>\n",
              "      <td>10</td>\n",
              "      <td>3</td>\n",
              "      <td>99</td>\n",
              "      <td>25.0</td>\n",
              "      <td>66125.0</td>\n",
              "      <td>1000.0</td>\n",
              "      <td>2645.0</td>\n",
              "    </tr>\n",
              "    <tr>\n",
              "      <th>3</th>\n",
              "      <td>23</td>\n",
              "      <td>1</td>\n",
              "      <td>6</td>\n",
              "      <td>0</td>\n",
              "      <td>3</td>\n",
              "      <td>2</td>\n",
              "      <td>5</td>\n",
              "      <td>5</td>\n",
              "      <td>6</td>\n",
              "      <td>9</td>\n",
              "      <td>1065</td>\n",
              "      <td>10</td>\n",
              "      <td>2</td>\n",
              "      <td>99</td>\n",
              "      <td>35.0</td>\n",
              "      <td>338800.0</td>\n",
              "      <td>500.0</td>\n",
              "      <td>9680.0</td>\n",
              "    </tr>\n",
              "    <tr>\n",
              "      <th>4</th>\n",
              "      <td>23</td>\n",
              "      <td>1</td>\n",
              "      <td>6</td>\n",
              "      <td>0</td>\n",
              "      <td>3</td>\n",
              "      <td>2</td>\n",
              "      <td>5</td>\n",
              "      <td>5</td>\n",
              "      <td>6</td>\n",
              "      <td>9</td>\n",
              "      <td>509</td>\n",
              "      <td>6</td>\n",
              "      <td>2</td>\n",
              "      <td>1</td>\n",
              "      <td>2.0</td>\n",
              "      <td>77700.0</td>\n",
              "      <td>5000.0</td>\n",
              "      <td>38850.0</td>\n",
              "    </tr>\n",
              "  </tbody>\n",
              "</table>\n",
              "</div>"
            ],
            "text/plain": [
              "   hist_d  sex_dit_cd  cus_age_stn_cd  ivs_icn_cd  cus_aet_stn_cd  \\\n",
              "0      36           1               6           0               3   \n",
              "1      11           1               6           0               3   \n",
              "2      21           1               6           0               3   \n",
              "3      23           1               6           0               3   \n",
              "4      23           1               6           0               3   \n",
              "\n",
              "   mrz_pdt_tp_sgm_cd  lsg_sgm_cd  tco_cus_grd_cd  tot_ivs_te_sgm_cd  \\\n",
              "0                  2           5               5                  6   \n",
              "1                  2           5               5                  6   \n",
              "2                  2           5               5                  6   \n",
              "3                  2           5               5                  6   \n",
              "4                  2           5               5                  6   \n",
              "\n",
              "   mrz_btp_dit_cd  iem_krl_nm  btp_cfc_cd  mkt_pr_tal_scl_tp_cd  stk_dit_cd  \\\n",
              "0               9        3037           2                     2           1   \n",
              "1               9        2848           6                     1           1   \n",
              "2               9         974          10                     3          99   \n",
              "3               9        1065          10                     2          99   \n",
              "4               9         509           6                     2           1   \n",
              "\n",
              "   bnc_qty  tot_aet_amt  stk_par_pr    stk_p  \n",
              "0      1.0      69400.0      5000.0  69400.0  \n",
              "1      4.0     345200.0      5000.0  86300.0  \n",
              "2     25.0      66125.0      1000.0   2645.0  \n",
              "3     35.0     338800.0       500.0   9680.0  \n",
              "4      2.0      77700.0      5000.0  38850.0  "
            ]
          },
          "metadata": {},
          "execution_count": 15
        }
      ]
    },
    {
      "cell_type": "code",
      "metadata": {
        "id": "9aDl2DE7Sl_d"
      },
      "source": [
        "train['profit']=train_new['수익률']\n",
        "train['hold_d']=train_new['보유기간(일)']\n",
        "train['last_price']=train_new['종가_0630']"
      ],
      "execution_count": null,
      "outputs": []
    },
    {
      "cell_type": "code",
      "metadata": {
        "id": "TT1hoCeqS8KS"
      },
      "source": [
        "test['profit']=test_new['수익률']\n",
        "test['hold_d']=test_new['보유기간(일)']\n",
        "test['last_price']=test_new['종가_1230']"
      ],
      "execution_count": null,
      "outputs": []
    },
    {
      "cell_type": "code",
      "metadata": {
        "colab": {
          "base_uri": "https://localhost:8080/"
        },
        "id": "guOdx9gHTF9X",
        "outputId": "f16105ca-f0cf-4db1-f7f2-01b82ba0385a"
      },
      "source": [
        "train.shape"
      ],
      "execution_count": null,
      "outputs": [
        {
          "output_type": "execute_result",
          "data": {
            "text/plain": [
              "(31377, 21)"
            ]
          },
          "metadata": {},
          "execution_count": 20
        }
      ]
    },
    {
      "cell_type": "code",
      "metadata": {
        "colab": {
          "base_uri": "https://localhost:8080/"
        },
        "id": "ZsAKI4v0TLI8",
        "outputId": "b60e3ac9-a5ad-4acc-9e5b-83a84af0e4ac"
      },
      "source": [
        "test.shape"
      ],
      "execution_count": null,
      "outputs": [
        {
          "output_type": "execute_result",
          "data": {
            "text/plain": [
              "(70596, 21)"
            ]
          },
          "metadata": {},
          "execution_count": 21
        }
      ]
    },
    {
      "cell_type": "markdown",
      "metadata": {
        "id": "O-vzGityT5os"
      },
      "source": [
        "## NAN 값 처리"
      ]
    },
    {
      "cell_type": "code",
      "metadata": {
        "colab": {
          "base_uri": "https://localhost:8080/"
        },
        "id": "oP7m13IaTTgn",
        "outputId": "a70216f8-b668-4c40-fbaf-79045f380d85"
      },
      "source": [
        "train.isnull().sum()"
      ],
      "execution_count": null,
      "outputs": [
        {
          "output_type": "execute_result",
          "data": {
            "text/plain": [
              "hist_d                   0\n",
              "sex_dit_cd               0\n",
              "cus_age_stn_cd           0\n",
              "ivs_icn_cd               0\n",
              "cus_aet_stn_cd           0\n",
              "mrz_pdt_tp_sgm_cd        0\n",
              "lsg_sgm_cd               0\n",
              "tco_cus_grd_cd           0\n",
              "tot_ivs_te_sgm_cd        0\n",
              "mrz_btp_dit_cd           0\n",
              "iem_krl_nm               0\n",
              "btp_cfc_cd               0\n",
              "mkt_pr_tal_scl_tp_cd     0\n",
              "stk_dit_cd               0\n",
              "bnc_qty                  0\n",
              "tot_aet_amt              0\n",
              "stk_par_pr               0\n",
              "stk_p                    0\n",
              "profit                  20\n",
              "hold_d                   0\n",
              "last_price              20\n",
              "dtype: int64"
            ]
          },
          "metadata": {},
          "execution_count": 23
        }
      ]
    },
    {
      "cell_type": "code",
      "metadata": {
        "id": "6ISHK6wCTYNu"
      },
      "source": [
        "a=train['profit'].mean()\n",
        "b=train['last_price'].mean()\n",
        "\n",
        "train_1=train.copy()\n",
        "train_1.fillna({'profit':a, 'last_price':b}, inplace=True)"
      ],
      "execution_count": null,
      "outputs": []
    },
    {
      "cell_type": "code",
      "metadata": {
        "colab": {
          "base_uri": "https://localhost:8080/"
        },
        "id": "4VUCrHvpTr30",
        "outputId": "5f9f3643-8266-40eb-f9ec-0065321e6a5e"
      },
      "source": [
        "test.isnull().sum()"
      ],
      "execution_count": null,
      "outputs": [
        {
          "output_type": "execute_result",
          "data": {
            "text/plain": [
              "hist_d                    0\n",
              "sex_dit_cd                0\n",
              "cus_age_stn_cd            0\n",
              "ivs_icn_cd                0\n",
              "cus_aet_stn_cd            0\n",
              "mrz_pdt_tp_sgm_cd         0\n",
              "lsg_sgm_cd                0\n",
              "tco_cus_grd_cd            0\n",
              "tot_ivs_te_sgm_cd         0\n",
              "mrz_btp_dit_cd            0\n",
              "iem_krl_nm                0\n",
              "btp_cfc_cd                0\n",
              "mkt_pr_tal_scl_tp_cd      0\n",
              "stk_dit_cd                0\n",
              "bnc_qty                   0\n",
              "tot_aet_amt               0\n",
              "stk_par_pr                0\n",
              "stk_p                     0\n",
              "profit                  549\n",
              "hold_d                    0\n",
              "last_price              549\n",
              "dtype: int64"
            ]
          },
          "metadata": {},
          "execution_count": 26
        }
      ]
    },
    {
      "cell_type": "code",
      "metadata": {
        "id": "uk1_r6-CTvb6"
      },
      "source": [
        "a1=test['profit'].mean()\n",
        "b1=test['last_price'].mean()\n",
        "\n",
        "test_1=test.copy()\n",
        "test_1.fillna({'profit':a1, 'last_price':b1}, inplace=True)"
      ],
      "execution_count": null,
      "outputs": []
    },
    {
      "cell_type": "markdown",
      "metadata": {
        "id": "DQftaZ03Ubv6"
      },
      "source": [
        "## Feature Selection (콘다 파일 기준)"
      ]
    },
    {
      "cell_type": "code",
      "metadata": {
        "id": "rSSsvT_GUfJP"
      },
      "source": [
        "train_selected=train_1[{'hist_d', 'tot_aet_amt', 'hold_d', 'last_price'}]\n",
        "test_selected=test_1[{'hist_d', 'tot_aet_amt', 'hold_d', 'last_price'}]"
      ],
      "execution_count": null,
      "outputs": []
    },
    {
      "cell_type": "markdown",
      "metadata": {
        "id": "znT8AKE0T-iW"
      },
      "source": [
        "## 이상치 처리"
      ]
    },
    {
      "cell_type": "code",
      "metadata": {
        "id": "QneghnecUBSl"
      },
      "source": [
        "def outliers_iqr(data):\n",
        "  q1, q3= np.percentile(data, [25,75])\n",
        "  iqr=q3-q1\n",
        "  lower_bound=q1-(iqr*5)\n",
        "  upper_bound=q3+(iqr*5)\n",
        "\n",
        "  return np.where((data>upper_bound)|(data<lower_bound))"
      ],
      "execution_count": null,
      "outputs": []
    },
    {
      "cell_type": "code",
      "metadata": {
        "colab": {
          "base_uri": "https://localhost:8080/"
        },
        "id": "Wdt5SSdoVpp_",
        "outputId": "b0883215-e146-4023-bcf7-96f091d1163a"
      },
      "source": [
        "hist_d_outlier=outliers_iqr(train_selected['hist_d'])[0]\n",
        "tot_aet_amt_outlier=outliers_iqr(train_selected['tot_aet_amt'])[0]\n",
        "hold_d_outlier=outliers_iqr(train_selected['hold_d'])[0]\n",
        "last_price_outlier=outliers_iqr(train_selected['last_price'])[0]\n",
        "\n",
        "outlier_index = np.concatenate((hist_d_outlier, tot_aet_amt_outlier, hold_d_outlier,\n",
        "                                last_price_outlier), axis=None)\n",
        "\n",
        "print(len(outlier_index))"
      ],
      "execution_count": null,
      "outputs": [
        {
          "output_type": "stream",
          "name": "stdout",
          "text": [
            "4322\n"
          ]
        }
      ]
    },
    {
      "cell_type": "code",
      "metadata": {
        "colab": {
          "base_uri": "https://localhost:8080/",
          "height": 417
        },
        "id": "Wh5OfDx_XSvm",
        "outputId": "c20fd11d-f89a-4a83-e4af-fe94b68df9af"
      },
      "source": [
        "not_oulier_index=[]\n",
        "\n",
        "for i in train_selected.index:\n",
        "  if i not in outlier_index:\n",
        "    not_oulier_index.append(i)\n",
        "\n",
        "train_clean=train_selected.loc[not_oulier_index]\n",
        "train_clean=train_selected.reset_index(drop=True)\n",
        "train_clean"
      ],
      "execution_count": null,
      "outputs": [
        {
          "output_type": "execute_result",
          "data": {
            "text/html": [
              "<div>\n",
              "<style scoped>\n",
              "    .dataframe tbody tr th:only-of-type {\n",
              "        vertical-align: middle;\n",
              "    }\n",
              "\n",
              "    .dataframe tbody tr th {\n",
              "        vertical-align: top;\n",
              "    }\n",
              "\n",
              "    .dataframe thead th {\n",
              "        text-align: right;\n",
              "    }\n",
              "</style>\n",
              "<table border=\"1\" class=\"dataframe\">\n",
              "  <thead>\n",
              "    <tr style=\"text-align: right;\">\n",
              "      <th></th>\n",
              "      <th>tot_aet_amt</th>\n",
              "      <th>hold_d</th>\n",
              "      <th>hist_d</th>\n",
              "      <th>last_price</th>\n",
              "    </tr>\n",
              "  </thead>\n",
              "  <tbody>\n",
              "    <tr>\n",
              "      <th>0</th>\n",
              "      <td>69400.0</td>\n",
              "      <td>83</td>\n",
              "      <td>36</td>\n",
              "      <td>62800.0</td>\n",
              "    </tr>\n",
              "    <tr>\n",
              "      <th>1</th>\n",
              "      <td>345200.0</td>\n",
              "      <td>110</td>\n",
              "      <td>11</td>\n",
              "      <td>87400.0</td>\n",
              "    </tr>\n",
              "    <tr>\n",
              "      <th>2</th>\n",
              "      <td>66125.0</td>\n",
              "      <td>31</td>\n",
              "      <td>21</td>\n",
              "      <td>2540.0</td>\n",
              "    </tr>\n",
              "    <tr>\n",
              "      <th>3</th>\n",
              "      <td>338800.0</td>\n",
              "      <td>63</td>\n",
              "      <td>23</td>\n",
              "      <td>9420.0</td>\n",
              "    </tr>\n",
              "    <tr>\n",
              "      <th>4</th>\n",
              "      <td>77700.0</td>\n",
              "      <td>55</td>\n",
              "      <td>23</td>\n",
              "      <td>37900.0</td>\n",
              "    </tr>\n",
              "    <tr>\n",
              "      <th>...</th>\n",
              "      <td>...</td>\n",
              "      <td>...</td>\n",
              "      <td>...</td>\n",
              "      <td>...</td>\n",
              "    </tr>\n",
              "    <tr>\n",
              "      <th>31372</th>\n",
              "      <td>24723500.0</td>\n",
              "      <td>18</td>\n",
              "      <td>16</td>\n",
              "      <td>100500.0</td>\n",
              "    </tr>\n",
              "    <tr>\n",
              "      <th>31373</th>\n",
              "      <td>38100.0</td>\n",
              "      <td>262</td>\n",
              "      <td>261</td>\n",
              "      <td>15850.0</td>\n",
              "    </tr>\n",
              "    <tr>\n",
              "      <th>31374</th>\n",
              "      <td>183000.0</td>\n",
              "      <td>37</td>\n",
              "      <td>16</td>\n",
              "      <td>85800.0</td>\n",
              "    </tr>\n",
              "    <tr>\n",
              "      <th>31375</th>\n",
              "      <td>386500.0</td>\n",
              "      <td>24</td>\n",
              "      <td>17</td>\n",
              "      <td>335000.0</td>\n",
              "    </tr>\n",
              "    <tr>\n",
              "      <th>31376</th>\n",
              "      <td>8440.0</td>\n",
              "      <td>4</td>\n",
              "      <td>3</td>\n",
              "      <td>8270.0</td>\n",
              "    </tr>\n",
              "  </tbody>\n",
              "</table>\n",
              "<p>31377 rows × 4 columns</p>\n",
              "</div>"
            ],
            "text/plain": [
              "       tot_aet_amt  hold_d  hist_d  last_price\n",
              "0          69400.0      83      36     62800.0\n",
              "1         345200.0     110      11     87400.0\n",
              "2          66125.0      31      21      2540.0\n",
              "3         338800.0      63      23      9420.0\n",
              "4          77700.0      55      23     37900.0\n",
              "...            ...     ...     ...         ...\n",
              "31372   24723500.0      18      16    100500.0\n",
              "31373      38100.0     262     261     15850.0\n",
              "31374     183000.0      37      16     85800.0\n",
              "31375     386500.0      24      17    335000.0\n",
              "31376       8440.0       4       3      8270.0\n",
              "\n",
              "[31377 rows x 4 columns]"
            ]
          },
          "metadata": {},
          "execution_count": 48
        }
      ]
    },
    {
      "cell_type": "markdown",
      "metadata": {
        "id": "23E5LdRYYGFy"
      },
      "source": [
        "## 정규화"
      ]
    },
    {
      "cell_type": "code",
      "metadata": {
        "id": "-494y3ScYJRa"
      },
      "source": [
        "from sklearn.preprocessing import StandardScaler\n",
        "\n",
        "scaler=StandardScaler()\n",
        "\n",
        "scaler.fit(train_clean)\n",
        "train_scaled=scaler.transform(train_clean)"
      ],
      "execution_count": null,
      "outputs": []
    },
    {
      "cell_type": "code",
      "metadata": {
        "id": "p83XARk4XYWn"
      },
      "source": [
        "from sklearn.feature_selection import SelectFromModel\n",
        "from sklearn.ensemble import GradientBoostingRegressor, RandomForestRegressor, ExtraTreesRegressor\n",
        "from lightgbm import LGBMRegressor\n",
        "from sklearn.model_selection import train_test_split"
      ],
      "execution_count": null,
      "outputs": []
    },
    {
      "cell_type": "code",
      "metadata": {
        "id": "DPOp_yd2XiRF"
      },
      "source": [
        "X_train, X_test, y_train, y_test=train_test_split(train_scaled, train_label, test_size=0.3,shuffle=True, random_state=42)"
      ],
      "execution_count": null,
      "outputs": []
    },
    {
      "cell_type": "code",
      "metadata": {
        "colab": {
          "base_uri": "https://localhost:8080/"
        },
        "id": "MX3kShV4Xnzc",
        "outputId": "fe79a954-02d9-4673-f63a-23e398f559b6"
      },
      "source": [
        "lgbm_reg=LGBMRegressor(boosting_type='gbdt', class_weight=None, colsample_bytree=1.0,\n",
        "               importance_type='split', learning_rate=0.1, max_depth=-1,\n",
        "               min_child_samples=20, min_child_weight=0.001, min_split_gain=0.0,\n",
        "               n_estimators=100, n_jobs=-1, num_leaves=31, objective=None,\n",
        "               random_state=123, reg_alpha=0.0, reg_lambda=0.0, silent=True,\n",
        "               subsample=1.0, subsample_for_bin=200000, subsample_freq=0)\n",
        "gbm_reg=GradientBoostingRegressor(alpha=0.9, ccp_alpha=0.0, criterion='friedman_mse',\n",
        "                           init=None, learning_rate=0.1, loss='ls', max_depth=3,\n",
        "                           max_features=None, max_leaf_nodes=None,\n",
        "                           min_impurity_decrease=0.0, min_impurity_split=None,\n",
        "                           min_samples_leaf=1, min_samples_split=2,\n",
        "                           min_weight_fraction_leaf=0.0, n_estimators=100,\n",
        "                           n_iter_no_change=None, presort='deprecated',\n",
        "                           random_state=123, subsample=1.0, tol=0.0001,\n",
        "                           validation_fraction=0.1, verbose=0, warm_start=False)\n",
        "rf_reg=RandomForestRegressor(bootstrap=True, ccp_alpha=0.0, criterion='mse',\n",
        "                       max_depth=None, max_features='auto', max_leaf_nodes=None,\n",
        "                       max_samples=None, min_impurity_decrease=0.0,\n",
        "                       min_impurity_split=None, min_samples_leaf=1,\n",
        "                       min_samples_split=2, min_weight_fraction_leaf=0.0,\n",
        "                       n_estimators=100, n_jobs=-1, oob_score=False,\n",
        "                       random_state=123, verbose=0, warm_start=False)\n",
        "\n",
        "lgbm_reg.fit(X_train, y_train)\n",
        "gbm_reg.fit(X_train, y_train)\n",
        "rf_reg.fit(X_train, y_train)"
      ],
      "execution_count": null,
      "outputs": [
        {
          "output_type": "stream",
          "name": "stderr",
          "text": [
            "/usr/local/lib/python3.7/dist-packages/sklearn/utils/validation.py:760: DataConversionWarning: A column-vector y was passed when a 1d array was expected. Please change the shape of y to (n_samples, ), for example using ravel().\n",
            "  y = column_or_1d(y, warn=True)\n",
            "/usr/local/lib/python3.7/dist-packages/sklearn/ensemble/_gb.py:1454: DataConversionWarning: A column-vector y was passed when a 1d array was expected. Please change the shape of y to (n_samples, ), for example using ravel().\n",
            "  y = column_or_1d(y, warn=True)\n",
            "/usr/local/lib/python3.7/dist-packages/ipykernel_launcher.py:26: DataConversionWarning: A column-vector y was passed when a 1d array was expected. Please change the shape of y to (n_samples,), for example using ravel().\n"
          ]
        },
        {
          "output_type": "execute_result",
          "data": {
            "text/plain": [
              "RandomForestRegressor(bootstrap=True, ccp_alpha=0.0, criterion='mse',\n",
              "                      max_depth=None, max_features='auto', max_leaf_nodes=None,\n",
              "                      max_samples=None, min_impurity_decrease=0.0,\n",
              "                      min_impurity_split=None, min_samples_leaf=1,\n",
              "                      min_samples_split=2, min_weight_fraction_leaf=0.0,\n",
              "                      n_estimators=100, n_jobs=-1, oob_score=False,\n",
              "                      random_state=123, verbose=0, warm_start=False)"
            ]
          },
          "metadata": {},
          "execution_count": 56
        }
      ]
    },
    {
      "cell_type": "code",
      "metadata": {
        "colab": {
          "base_uri": "https://localhost:8080/"
        },
        "id": "fpBzFrQdl32U",
        "outputId": "14ac6d3b-ddae-4764-caa5-1526844e1c5d"
      },
      "source": [
        "lgbm_pred=lgbm_reg.predict(X_test)\n",
        "gbm_pred=gbm_reg.predict(X_test)\n",
        "rf_pred=rf_reg.predict(X_test)\n",
        "\n",
        "lgbm_rmse=np.sqrt(mse(y_test, lgbm_pred))\n",
        "gbm_rmse=np.sqrt(mse(y_test, gbm_pred))\n",
        "rf_rmse=np.sqrt(mse(y_test, rf_pred))\n",
        "\n",
        "print(lgbm_rmse)\n",
        "print(gbm_rmse)\n",
        "print(rf_rmse)"
      ],
      "execution_count": null,
      "outputs": [
        {
          "output_type": "stream",
          "name": "stdout",
          "text": [
            "3.693182389064145\n",
            "0.9651736299783339\n",
            "1.2050374667897727\n"
          ]
        }
      ]
    },
    {
      "cell_type": "code",
      "metadata": {
        "id": "4uFFufJmmShr"
      },
      "source": [
        "lgbm_real_predict=lgbm_reg.predict(test_selected)\n",
        "gbm_real_predict=gbm_reg.predict(test_selected)\n",
        "rf_real_predict=rf_reg.predict(test_selected)"
      ],
      "execution_count": null,
      "outputs": []
    },
    {
      "cell_type": "code",
      "metadata": {
        "id": "G7F50FQ9pLRj"
      },
      "source": [
        "submission['hold_d']=np.round(lgbm_real_predict)\n",
        "submission.to_csv(\"NH_submission_lgbm.csv\", index = False)"
      ],
      "execution_count": null,
      "outputs": []
    },
    {
      "cell_type": "code",
      "metadata": {
        "id": "U0XhqbKMaNIu"
      },
      "source": [
        "submission['hold_d']=np.round(lgbm_real_predict)\n",
        "submission.to_csv(\"NH_submission_gbm.csv\", index = False)"
      ],
      "execution_count": null,
      "outputs": []
    },
    {
      "cell_type": "code",
      "metadata": {
        "id": "9CLmdhvvaN9k"
      },
      "source": [
        "submission['hold_d']=np.round(lgbm_real_predict)\n",
        "submission.to_csv(\"NH_submission_rf.csv\", index = False)"
      ],
      "execution_count": null,
      "outputs": []
    }
  ]
}